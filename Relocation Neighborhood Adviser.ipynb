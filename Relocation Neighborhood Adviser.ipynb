{
    "cells": [
        {
            "cell_type": "markdown",
            "metadata": {
                "collapsed": true
            },
            "source": "by Hyun Gu Kang\n\n# Coursera/IBM Data Science Professional Certificate - Capstone Project\n# Relocation Neighborhood Adviser Project\n\n### Week 4/ Week 5 Assignment"
        },
        {
            "cell_type": "markdown",
            "metadata": {},
            "source": "## Project Description\n\n\nAs a newly minted data scientist, I will likely need to relocate.  Where should I move to in the US?  (I'd like to do this for the rest of the world, but not sure about data sources yet)\n\nI will create a neighborhood desirability dashboard(?) by using the following data:\n\n- Neighborhood conveniences\n- Neighborhood income \n"
        },
        {
            "cell_type": "markdown",
            "metadata": {},
            "source": "Data Sources:\n1.  Foursquare \nidentify venue density - is this a quiet, slow area?\nidentify neighboring density - is it near a busy area?\nidentify if area has data science venues nearby\n\n2.  Bing Location Data\nSo I can geolocate these places\n\n3.  US Tax Statistics \nhttps://www.irs.gov/statistics/soi-tax-stats-individual-income-tax-statistics-2017-zip-code-data-soi\n- merge in population density per zip code (postal code)\n- merge in income level\n- number of dependent exemptions - is this a neighborhood with kids/families?\n- home mortgage interest paid - do people own homes here?\n  "
        },
        {
            "cell_type": "code",
            "execution_count": null,
            "metadata": {},
            "outputs": [],
            "source": ""
        }
    ],
    "metadata": {
        "kernelspec": {
            "display_name": "Python 3.6",
            "language": "python",
            "name": "python3"
        },
        "language_info": {
            "codemirror_mode": {
                "name": "ipython",
                "version": 3
            },
            "file_extension": ".py",
            "mimetype": "text/x-python",
            "name": "python",
            "nbconvert_exporter": "python",
            "pygments_lexer": "ipython3",
            "version": "3.6.8"
        }
    },
    "nbformat": 4,
    "nbformat_minor": 1
}